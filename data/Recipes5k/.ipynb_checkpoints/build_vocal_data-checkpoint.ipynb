{
 "cells": [
  {
   "cell_type": "code",
   "execution_count": 1,
   "metadata": {},
   "outputs": [],
   "source": [
    "import nltk\n",
    "import pickle\n",
    "import argparse\n",
    "from collections import Counter\n",
    "import json\n",
    "import os\n",
    "from tqdm import *\n",
    "import numpy as np\n",
    "import re\n",
    "import pickle\n",
    "\n",
    "class Vocabulary(object):\n",
    "    \"\"\"Simple vocabulary wrapper.\"\"\"\n",
    "    def __init__(self):\n",
    "        self.word2idx = {}\n",
    "        self.idx2word = {}\n",
    "        self.idx = 0\n",
    "\n",
    "    def add_word(self, word, idx=None):\n",
    "        if idx is None:\n",
    "            if not word in self.word2idx:\n",
    "                self.word2idx[word] = self.idx\n",
    "                self.idx2word[self.idx] = word\n",
    "                self.idx += 1\n",
    "            return self.idx\n",
    "        else:\n",
    "            if not word in self.word2idx:\n",
    "                self.word2idx[word] = idx\n",
    "                if idx in self.idx2word.keys():\n",
    "                    self.idx2word[idx].append(word)\n",
    "                else:\n",
    "                    self.idx2word[idx] = [word]\n",
    "\n",
    "                return idx\n",
    "\n",
    "    def __call__(self, word):\n",
    "        if not word in self.word2idx:\n",
    "            return self.word2idx['<pad>']\n",
    "        return self.word2idx[word]\n",
    "\n",
    "    def __len__(self):\n",
    "        return len(self.idx2word)"
   ]
  },
  {
   "cell_type": "code",
   "execution_count": 2,
   "metadata": {},
   "outputs": [],
   "source": [
    "def cluster_ingredients(counter_ingrs):\n",
    "    mydict = dict()\n",
    "    mydict_ingrs = dict()\n",
    "\n",
    "    for k, v in counter_ingrs.items():\n",
    "\n",
    "        w1 = k.split('_')[-1]\n",
    "        w2 = k.split('_')[0]\n",
    "        lw = [w1, w2]\n",
    "        if len(k.split('_')) > 1:\n",
    "            w3 = k.split('_')[0] + '_' + k.split('_')[1]\n",
    "            w4 = k.split('_')[-2] + '_' + k.split('_')[-1]\n",
    "\n",
    "            lw = [w1, w2, w4, w3]\n",
    "\n",
    "        gotit = 0\n",
    "        for w in lw:\n",
    "            if w in counter_ingrs.keys():\n",
    "                # check if its parts are\n",
    "                parts = w.split('_')\n",
    "                if len(parts) > 0:\n",
    "                    if parts[0] in counter_ingrs.keys():\n",
    "                        w = parts[0]\n",
    "                    elif parts[1] in counter_ingrs.keys():\n",
    "                        w = parts[1]\n",
    "                if w in mydict.keys():\n",
    "                    mydict[w] += v\n",
    "                    mydict_ingrs[w].append(k)\n",
    "                else:\n",
    "                    mydict[w] = v\n",
    "                    mydict_ingrs[w] = [k]\n",
    "                gotit = 1\n",
    "                break\n",
    "        if gotit == 0:\n",
    "            mydict[k] = v\n",
    "            mydict_ingrs[k] = [k]\n",
    "\n",
    "    return mydict, mydict_ingrs\n",
    "\n",
    "def get_ingredients(line):\n",
    "    line = line.lower()\n",
    "    items = line.split(\",\")\n",
    "    for i in range(len(items)):\n",
    "        if len(items[i]) > 0:\n",
    "            items[i] = items[i].replace(' ', '_')\n",
    "            items[i] = items[i].strip('\\n')\n",
    "        else:\n",
    "            del items[i]\n",
    "    return items\n",
    "\n",
    "def remove_plurals(counter_ingrs, ingr_clusters):\n",
    "    del_ingrs = []\n",
    "\n",
    "    for k, v in counter_ingrs.items():\n",
    "\n",
    "        if len(k) == 0:\n",
    "            del_ingrs.append(k)\n",
    "            continue\n",
    "\n",
    "        gotit = 0\n",
    "        if k[-2:] == 'es':\n",
    "            if k[:-2] in counter_ingrs.keys():\n",
    "                counter_ingrs[k[:-2]] += v\n",
    "                ingr_clusters[k[:-2]].extend(ingr_clusters[k])\n",
    "                del_ingrs.append(k)\n",
    "                gotit = 1\n",
    "\n",
    "        if k[-1] == 's' and gotit == 0:\n",
    "            if k[:-1] in counter_ingrs.keys():\n",
    "                counter_ingrs[k[:-1]] += v\n",
    "                ingr_clusters[k[:-1]].extend(ingr_clusters[k])\n",
    "                del_ingrs.append(k)\n",
    "\n",
    "    for item in del_ingrs:\n",
    "        del counter_ingrs[item]\n",
    "        del ingr_clusters[item]\n",
    "\n",
    "    return counter_ingrs, ingr_clusters"
   ]
  },
  {
   "cell_type": "code",
   "execution_count": 9,
   "metadata": {},
   "outputs": [],
   "source": [
    "def build_vocab_dataset():\n",
    "    \n",
    "    #f1 = open(os.getcwd() +\"/Annotations/classes.txt\", \"r\")\n",
    "    #idx = 0\n",
    "    #class_names = {}\n",
    "    #for class_name in f1:\n",
    "    #    class_name = class_name.strip()\n",
    "    #    class_names[idx] = class_name\n",
    "    #    idx += 1\n",
    "    #f1.close()\n",
    "    \n",
    "    f = open(os.getcwd() +\"/Annotations/ingredients_Recipes5k.txt\", \"r\")\n",
    "    class_to_ingrd = {}\n",
    "    counter_ingrs = Counter()\n",
    "    idx = 0\n",
    "    max_length= -1\n",
    "    for line in f:\n",
    "        items = get_ingredients(line)\n",
    "        #class_to_ingrd[class_names[idx]] = items\n",
    "        idx += 1\n",
    "        if len(items) > max_length:\n",
    "            max_length = len(items)\n",
    "        counter_ingrs.update(items)\n",
    "    print(\"The maximum length of ingredients: \", max_length)\n",
    "    f.close()\n",
    "    counter_ingrs, cluster_ingrs = cluster_ingredients(counter_ingrs)\n",
    "    counter_ingrs, cluster_ingrs = remove_plurals(counter_ingrs, cluster_ingrs)\n",
    "    vocab_ingrs = Vocabulary()\n",
    "    idx = vocab_ingrs.add_word('<end>')\n",
    "    for k, _ in counter_ingrs.items():\n",
    "        for ingr in cluster_ingrs[k]:\n",
    "            idx = vocab_ingrs.add_word(ingr, idx)\n",
    "        idx += 1\n",
    "    _ = vocab_ingrs.add_word('<pad>', idx)\n",
    "    \n",
    "    print(\"Total ingr vocabulary size: {}\".format(len(vocab_ingrs)))\n",
    "    dataset = {'train': [], 'val': [], 'test': []}\n",
    "    for split in ['train', 'val', 'test']:\n",
    "        f2 = open(os.getcwd() +\"/ingredients101/Annotations/\"+split+'_images.txt', \"r\")\n",
    "        temp_name = None\n",
    "        idx = -1\n",
    "        for line in f2:\n",
    "            line = line.strip()\n",
    "            name, number = line.split('/')\n",
    "            if name != temp_name:\n",
    "                idx += 1\n",
    "                temp_name = name\n",
    "            newentry = {'id': temp_name,'ingredients': class_to_ingrd[class_names[idx]], 'images': line}\n",
    "            dataset[split].append(newentry)\n",
    "    return vocab_ingrs, dataset"
   ]
  },
  {
   "cell_type": "code",
   "execution_count": 10,
   "metadata": {},
   "outputs": [
    {
     "ename": "IndexError",
     "evalue": "list index out of range",
     "output_type": "error",
     "traceback": [
      "\u001b[1;31m---------------------------------------------------------------------------\u001b[0m",
      "\u001b[1;31mIndexError\u001b[0m                                Traceback (most recent call last)",
      "\u001b[1;32m<ipython-input-10-277c8f04eec5>\u001b[0m in \u001b[0;36m<module>\u001b[1;34m\u001b[0m\n\u001b[1;32m----> 1\u001b[1;33m \u001b[0mvocab_ingrs\u001b[0m\u001b[1;33m,\u001b[0m \u001b[0mdataset\u001b[0m \u001b[1;33m=\u001b[0m \u001b[0mbuild_vocab_dataset\u001b[0m\u001b[1;33m(\u001b[0m\u001b[1;33m)\u001b[0m\u001b[1;33m\u001b[0m\u001b[1;33m\u001b[0m\u001b[0m\n\u001b[0m",
      "\u001b[1;32m<ipython-input-9-e5a3c4b86090>\u001b[0m in \u001b[0;36mbuild_vocab_dataset\u001b[1;34m()\u001b[0m\n\u001b[0;32m     16\u001b[0m     \u001b[0mmax_length\u001b[0m\u001b[1;33m=\u001b[0m \u001b[1;33m-\u001b[0m\u001b[1;36m1\u001b[0m\u001b[1;33m\u001b[0m\u001b[1;33m\u001b[0m\u001b[0m\n\u001b[0;32m     17\u001b[0m     \u001b[1;32mfor\u001b[0m \u001b[0mline\u001b[0m \u001b[1;32min\u001b[0m \u001b[0mf\u001b[0m\u001b[1;33m:\u001b[0m\u001b[1;33m\u001b[0m\u001b[1;33m\u001b[0m\u001b[0m\n\u001b[1;32m---> 18\u001b[1;33m         \u001b[0mitems\u001b[0m \u001b[1;33m=\u001b[0m \u001b[0mget_ingredients\u001b[0m\u001b[1;33m(\u001b[0m\u001b[0mline\u001b[0m\u001b[1;33m)\u001b[0m\u001b[1;33m\u001b[0m\u001b[1;33m\u001b[0m\u001b[0m\n\u001b[0m\u001b[0;32m     19\u001b[0m         \u001b[1;31m#class_to_ingrd[class_names[idx]] = items\u001b[0m\u001b[1;33m\u001b[0m\u001b[1;33m\u001b[0m\u001b[1;33m\u001b[0m\u001b[0m\n\u001b[0;32m     20\u001b[0m         \u001b[0midx\u001b[0m \u001b[1;33m+=\u001b[0m \u001b[1;36m1\u001b[0m\u001b[1;33m\u001b[0m\u001b[1;33m\u001b[0m\u001b[0m\n",
      "\u001b[1;32m<ipython-input-2-fb5991d081aa>\u001b[0m in \u001b[0;36mget_ingredients\u001b[1;34m(line)\u001b[0m\n\u001b[0;32m     42\u001b[0m     \u001b[0mitems\u001b[0m \u001b[1;33m=\u001b[0m \u001b[0mline\u001b[0m\u001b[1;33m.\u001b[0m\u001b[0msplit\u001b[0m\u001b[1;33m(\u001b[0m\u001b[1;34m\",\"\u001b[0m\u001b[1;33m)\u001b[0m\u001b[1;33m\u001b[0m\u001b[1;33m\u001b[0m\u001b[0m\n\u001b[0;32m     43\u001b[0m     \u001b[1;32mfor\u001b[0m \u001b[0mi\u001b[0m \u001b[1;32min\u001b[0m \u001b[0mrange\u001b[0m\u001b[1;33m(\u001b[0m\u001b[0mlen\u001b[0m\u001b[1;33m(\u001b[0m\u001b[0mitems\u001b[0m\u001b[1;33m)\u001b[0m\u001b[1;33m)\u001b[0m\u001b[1;33m:\u001b[0m\u001b[1;33m\u001b[0m\u001b[1;33m\u001b[0m\u001b[0m\n\u001b[1;32m---> 44\u001b[1;33m         \u001b[1;32mif\u001b[0m \u001b[0mlen\u001b[0m\u001b[1;33m(\u001b[0m\u001b[0mitems\u001b[0m\u001b[1;33m[\u001b[0m\u001b[0mi\u001b[0m\u001b[1;33m]\u001b[0m\u001b[1;33m)\u001b[0m \u001b[1;33m>\u001b[0m \u001b[1;36m0\u001b[0m\u001b[1;33m:\u001b[0m\u001b[1;33m\u001b[0m\u001b[1;33m\u001b[0m\u001b[0m\n\u001b[0m\u001b[0;32m     45\u001b[0m             \u001b[0mitems\u001b[0m\u001b[1;33m[\u001b[0m\u001b[0mi\u001b[0m\u001b[1;33m]\u001b[0m \u001b[1;33m=\u001b[0m \u001b[0mitems\u001b[0m\u001b[1;33m[\u001b[0m\u001b[0mi\u001b[0m\u001b[1;33m]\u001b[0m\u001b[1;33m.\u001b[0m\u001b[0mreplace\u001b[0m\u001b[1;33m(\u001b[0m\u001b[1;34m' '\u001b[0m\u001b[1;33m,\u001b[0m \u001b[1;34m'_'\u001b[0m\u001b[1;33m)\u001b[0m\u001b[1;33m\u001b[0m\u001b[1;33m\u001b[0m\u001b[0m\n\u001b[0;32m     46\u001b[0m             \u001b[0mitems\u001b[0m\u001b[1;33m[\u001b[0m\u001b[0mi\u001b[0m\u001b[1;33m]\u001b[0m \u001b[1;33m=\u001b[0m \u001b[0mitems\u001b[0m\u001b[1;33m[\u001b[0m\u001b[0mi\u001b[0m\u001b[1;33m]\u001b[0m\u001b[1;33m.\u001b[0m\u001b[0mstrip\u001b[0m\u001b[1;33m(\u001b[0m\u001b[1;34m'\\n'\u001b[0m\u001b[1;33m)\u001b[0m\u001b[1;33m\u001b[0m\u001b[1;33m\u001b[0m\u001b[0m\n",
      "\u001b[1;31mIndexError\u001b[0m: list index out of range"
     ]
    }
   ],
   "source": [
    "vocab_ingrs, dataset = build_vocab_dataset()"
   ]
  },
  {
   "cell_type": "code",
   "execution_count": 7,
   "metadata": {},
   "outputs": [],
   "source": [
    "def main():\n",
    "\n",
    "    vocab_ingrs, dataset = build_vocab_dataset()\n",
    "\n",
    "    with open(os.path.join(os.getcwd(), 'vocab_ingrs.pkl'), 'wb') as f:\n",
    "        pickle.dump(vocab_ingrs, f)\n",
    "\n",
    "    for split in dataset.keys():\n",
    "        with open(os.path.join(os.getcwd(),'data' + split + '.pkl'), 'wb') as f:\n",
    "            pickle.dump(dataset[split], f)\n"
   ]
  },
  {
   "cell_type": "code",
   "execution_count": 8,
   "metadata": {},
   "outputs": [
    {
     "name": "stdout",
     "output_type": "stream",
     "text": [
      "The maximum length of ingredients:  25\n",
      "Total ingr vocabulary size: 252\n"
     ]
    }
   ],
   "source": [
    "main()"
   ]
  },
  {
   "cell_type": "code",
   "execution_count": 9,
   "metadata": {},
   "outputs": [
    {
     "name": "stdout",
     "output_type": "stream",
     "text": [
      "68175 25250 7575\n"
     ]
    }
   ],
   "source": [
    "print(len(dataset['train']), len(dataset['test']),len(dataset['val']))"
   ]
  },
  {
   "cell_type": "code",
   "execution_count": null,
   "metadata": {},
   "outputs": [],
   "source": []
  }
 ],
 "metadata": {
  "kernelspec": {
   "display_name": "Python 3",
   "language": "python",
   "name": "python3"
  },
  "language_info": {
   "codemirror_mode": {
    "name": "ipython",
    "version": 3
   },
   "file_extension": ".py",
   "mimetype": "text/x-python",
   "name": "python",
   "nbconvert_exporter": "python",
   "pygments_lexer": "ipython3",
   "version": "3.7.3"
  }
 },
 "nbformat": 4,
 "nbformat_minor": 2
}
